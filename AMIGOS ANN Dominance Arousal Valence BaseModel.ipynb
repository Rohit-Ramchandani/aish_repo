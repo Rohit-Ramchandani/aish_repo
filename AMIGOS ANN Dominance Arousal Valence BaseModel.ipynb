{
 "cells": [
  {
   "cell_type": "code",
   "execution_count": null,
   "metadata": {
    "id": "ASomrqgMhpSh"
   },
   "outputs": [],
   "source": [
    "import numpy as np\n",
    "import pandas as pd\n",
    "from collections import OrderedDict\n",
    "import random\n",
    "\n",
    "from sklearn.model_selection import train_test_split\n",
    "\n",
    "import tensorflow as tf\n",
    "# tf.config.run_functions_eagerly(True)\n",
    "import keras\n",
    "from keras import layers\n",
    "from keras import regularizers\n",
    "from keras.models import Sequential\n",
    "from keras.layers import Conv2D, MaxPooling2D, Dense, Flatten, BatchNormalization, Dropout\n",
    "import keras\n",
    "from keras.models import load_model\n",
    "from keras.layers import Input, Dense, Conv2D, MaxPooling2D, UpSampling2D, Conv2DTranspose, concatenate\n",
    "from keras.models import Model\n",
    "from keras.callbacks import EarlyStopping, ModelCheckpoint\n",
    "from tensorflow.keras.optimizers import Adam"
   ]
  },
  {
   "cell_type": "code",
   "execution_count": null,
   "metadata": {
    "colab": {
     "base_uri": "https://localhost:8080/"
    },
    "id": "F5Ge_vdvhj6O",
    "outputId": "17bc9038-8e3e-4b61-9a47-75a9796ee640"
   },
   "outputs": [
    {
     "name": "stdout",
     "output_type": "stream",
     "text": [
      "The tensorboard extension is already loaded. To reload it, use:\n",
      "  %reload_ext tensorboard\n"
     ]
    }
   ],
   "source": [
    "%load_ext tensorboard"
   ]
  },
  {
   "cell_type": "code",
   "execution_count": null,
   "metadata": {
    "colab": {
     "base_uri": "https://localhost:8080/"
    },
    "id": "S4EY68yMvb6f",
    "outputId": "afa6c95a-f1a3-479d-c057-0647bccd6b2f"
   },
   "outputs": [
    {
     "name": "stdout",
     "output_type": "stream",
     "text": [
      "Drive already mounted at /content/drive; to attempt to forcibly remount, call drive.mount(\"/content/drive\", force_remount=True).\n"
     ]
    }
   ],
   "source": [
    "from google.colab import drive\n",
    "drive.mount('/content/drive')"
   ]
  },
  {
   "cell_type": "markdown",
   "metadata": {
    "id": "22lOhl7orXyz"
   },
   "source": [
    "# Globals"
   ]
  },
  {
   "cell_type": "code",
   "execution_count": null,
   "metadata": {
    "id": "mSvKCorxjutK"
   },
   "outputs": [],
   "source": [
    "SEED = 100"
   ]
  },
  {
   "cell_type": "code",
   "execution_count": null,
   "metadata": {
    "id": "sJ9TkQfzrWkd"
   },
   "outputs": [],
   "source": [
    "AMIGOS_PATH = '/content/drive/MyDrive/Amigos/'"
   ]
  },
  {
   "cell_type": "code",
   "execution_count": null,
   "metadata": {
    "colab": {
     "base_uri": "https://localhost:8080/",
     "height": 455
    },
    "id": "Rdu6J03aSwv9",
    "outputId": "b108670d-8b52-484c-b42a-73e57048f043"
   },
   "outputs": [
    {
     "data": {
      "text/html": [
       "\n",
       "  <div id=\"df-bb370318-a6b7-4e1f-b53b-17b82f72296a\">\n",
       "    <div class=\"colab-df-container\">\n",
       "      <div>\n",
       "<style scoped>\n",
       "    .dataframe tbody tr th:only-of-type {\n",
       "        vertical-align: middle;\n",
       "    }\n",
       "\n",
       "    .dataframe tbody tr th {\n",
       "        vertical-align: top;\n",
       "    }\n",
       "\n",
       "    .dataframe thead th {\n",
       "        text-align: right;\n",
       "    }\n",
       "</style>\n",
       "<table border=\"1\" class=\"dataframe\">\n",
       "  <thead>\n",
       "    <tr style=\"text-align: right;\">\n",
       "      <th></th>\n",
       "      <th>Dominance</th>\n",
       "    </tr>\n",
       "    <tr>\n",
       "      <th>Subjects</th>\n",
       "      <th></th>\n",
       "    </tr>\n",
       "  </thead>\n",
       "  <tbody>\n",
       "    <tr>\n",
       "      <th>1</th>\n",
       "      <td>1.0</td>\n",
       "    </tr>\n",
       "    <tr>\n",
       "      <th>1</th>\n",
       "      <td>1.0</td>\n",
       "    </tr>\n",
       "    <tr>\n",
       "      <th>1</th>\n",
       "      <td>0.0</td>\n",
       "    </tr>\n",
       "    <tr>\n",
       "      <th>1</th>\n",
       "      <td>1.0</td>\n",
       "    </tr>\n",
       "    <tr>\n",
       "      <th>1</th>\n",
       "      <td>0.0</td>\n",
       "    </tr>\n",
       "    <tr>\n",
       "      <th>...</th>\n",
       "      <td>...</td>\n",
       "    </tr>\n",
       "    <tr>\n",
       "      <th>40</th>\n",
       "      <td>0.0</td>\n",
       "    </tr>\n",
       "    <tr>\n",
       "      <th>40</th>\n",
       "      <td>0.0</td>\n",
       "    </tr>\n",
       "    <tr>\n",
       "      <th>40</th>\n",
       "      <td>1.0</td>\n",
       "    </tr>\n",
       "    <tr>\n",
       "      <th>40</th>\n",
       "      <td>1.0</td>\n",
       "    </tr>\n",
       "    <tr>\n",
       "      <th>40</th>\n",
       "      <td>0.0</td>\n",
       "    </tr>\n",
       "  </tbody>\n",
       "</table>\n",
       "<p>800 rows × 1 columns</p>\n",
       "</div>\n",
       "      <button class=\"colab-df-convert\" onclick=\"convertToInteractive('df-bb370318-a6b7-4e1f-b53b-17b82f72296a')\"\n",
       "              title=\"Convert this dataframe to an interactive table.\"\n",
       "              style=\"display:none;\">\n",
       "        \n",
       "  <svg xmlns=\"http://www.w3.org/2000/svg\" height=\"24px\"viewBox=\"0 0 24 24\"\n",
       "       width=\"24px\">\n",
       "    <path d=\"M0 0h24v24H0V0z\" fill=\"none\"/>\n",
       "    <path d=\"M18.56 5.44l.94 2.06.94-2.06 2.06-.94-2.06-.94-.94-2.06-.94 2.06-2.06.94zm-11 1L8.5 8.5l.94-2.06 2.06-.94-2.06-.94L8.5 2.5l-.94 2.06-2.06.94zm10 10l.94 2.06.94-2.06 2.06-.94-2.06-.94-.94-2.06-.94 2.06-2.06.94z\"/><path d=\"M17.41 7.96l-1.37-1.37c-.4-.4-.92-.59-1.43-.59-.52 0-1.04.2-1.43.59L10.3 9.45l-7.72 7.72c-.78.78-.78 2.05 0 2.83L4 21.41c.39.39.9.59 1.41.59.51 0 1.02-.2 1.41-.59l7.78-7.78 2.81-2.81c.8-.78.8-2.07 0-2.86zM5.41 20L4 18.59l7.72-7.72 1.47 1.35L5.41 20z\"/>\n",
       "  </svg>\n",
       "      </button>\n",
       "      \n",
       "  <style>\n",
       "    .colab-df-container {\n",
       "      display:flex;\n",
       "      flex-wrap:wrap;\n",
       "      gap: 12px;\n",
       "    }\n",
       "\n",
       "    .colab-df-convert {\n",
       "      background-color: #E8F0FE;\n",
       "      border: none;\n",
       "      border-radius: 50%;\n",
       "      cursor: pointer;\n",
       "      display: none;\n",
       "      fill: #1967D2;\n",
       "      height: 32px;\n",
       "      padding: 0 0 0 0;\n",
       "      width: 32px;\n",
       "    }\n",
       "\n",
       "    .colab-df-convert:hover {\n",
       "      background-color: #E2EBFA;\n",
       "      box-shadow: 0px 1px 2px rgba(60, 64, 67, 0.3), 0px 1px 3px 1px rgba(60, 64, 67, 0.15);\n",
       "      fill: #174EA6;\n",
       "    }\n",
       "\n",
       "    [theme=dark] .colab-df-convert {\n",
       "      background-color: #3B4455;\n",
       "      fill: #D2E3FC;\n",
       "    }\n",
       "\n",
       "    [theme=dark] .colab-df-convert:hover {\n",
       "      background-color: #434B5C;\n",
       "      box-shadow: 0px 1px 3px 1px rgba(0, 0, 0, 0.15);\n",
       "      filter: drop-shadow(0px 1px 2px rgba(0, 0, 0, 0.3));\n",
       "      fill: #FFFFFF;\n",
       "    }\n",
       "  </style>\n",
       "\n",
       "      <script>\n",
       "        const buttonEl =\n",
       "          document.querySelector('#df-bb370318-a6b7-4e1f-b53b-17b82f72296a button.colab-df-convert');\n",
       "        buttonEl.style.display =\n",
       "          google.colab.kernel.accessAllowed ? 'block' : 'none';\n",
       "\n",
       "        async function convertToInteractive(key) {\n",
       "          const element = document.querySelector('#df-bb370318-a6b7-4e1f-b53b-17b82f72296a');\n",
       "          const dataTable =\n",
       "            await google.colab.kernel.invokeFunction('convertToInteractive',\n",
       "                                                     [key], {});\n",
       "          if (!dataTable) return;\n",
       "\n",
       "          const docLinkHtml = 'Like what you see? Visit the ' +\n",
       "            '<a target=\"_blank\" href=https://colab.research.google.com/notebooks/data_table.ipynb>data table notebook</a>'\n",
       "            + ' to learn more about interactive tables.';\n",
       "          element.innerHTML = '';\n",
       "          dataTable['output_type'] = 'display_data';\n",
       "          await google.colab.output.renderOutput(dataTable, element);\n",
       "          const docLink = document.createElement('div');\n",
       "          docLink.innerHTML = docLinkHtml;\n",
       "          element.appendChild(docLink);\n",
       "        }\n",
       "      </script>\n",
       "    </div>\n",
       "  </div>\n",
       "  "
      ],
      "text/plain": [
       "          Dominance\n",
       "Subjects           \n",
       "1               1.0\n",
       "1               1.0\n",
       "1               0.0\n",
       "1               1.0\n",
       "1               0.0\n",
       "...             ...\n",
       "40              0.0\n",
       "40              0.0\n",
       "40              1.0\n",
       "40              1.0\n",
       "40              0.0\n",
       "\n",
       "[800 rows x 1 columns]"
      ]
     },
     "execution_count": 38,
     "metadata": {},
     "output_type": "execute_result"
    }
   ],
   "source": [
    "target_df = pd.read_csv(AMIGOS_PATH + 'target.csv', index_col = 0)\n",
    "target_df = target_df.drop(['Valence','Arousal'], axis = 1)\n",
    "\n",
    "target_df[target_df['Dominance'] <= 4.5] = 0\n",
    "target_df[target_df['Dominance'] > 4.5] = 1\n",
    "\n",
    "target_df"
   ]
  },
  {
   "cell_type": "code",
   "execution_count": null,
   "metadata": {
    "id": "QaM4_iDARc9E"
   },
   "outputs": [],
   "source": [
    "data = np.array(pd.read_csv('/content/drive/MyDrive/Amigos/Amigos_extractedfeatures.csv', index_col = 0))\n",
    "target = np.array(target_df)"
   ]
  },
  {
   "cell_type": "code",
   "execution_count": null,
   "metadata": {
    "colab": {
     "base_uri": "https://localhost:8080/"
    },
    "id": "IYWXNb1HjB51",
    "outputId": "3ec28522-8291-4a7a-cf78-acdbbc28548f"
   },
   "outputs": [
    {
     "data": {
      "text/plain": [
       "((800, 85), (800, 1))"
      ]
     },
     "execution_count": 40,
     "metadata": {},
     "output_type": "execute_result"
    }
   ],
   "source": [
    "data.shape, target.shape"
   ]
  },
  {
   "cell_type": "code",
   "execution_count": null,
   "metadata": {
    "colab": {
     "base_uri": "https://localhost:8080/"
    },
    "id": "RRxkZc_6tPwz",
    "outputId": "a3f90bf4-2ec4-4a1a-f9df-11a18c4d08a9"
   },
   "outputs": [
    {
     "data": {
      "text/plain": [
       "(40, 40)"
      ]
     },
     "execution_count": 41,
     "metadata": {},
     "output_type": "execute_result"
    }
   ],
   "source": [
    "# Make dictionary with each subject\n",
    "\n",
    "data_dict = dict()\n",
    "target_dict = dict()\n",
    "\n",
    "for idx in range(40):\n",
    "    data_dict[idx] = data[20*idx : 20*(idx+1)]\n",
    "    target_dict[idx] = target[20*idx : 20*(idx+1)]\n",
    "\n",
    "len(data_dict), len(target_dict)"
   ]
  },
  {
   "cell_type": "code",
   "execution_count": null,
   "metadata": {
    "colab": {
     "base_uri": "https://localhost:8080/"
    },
    "id": "0sIqvQ7pwfj3",
    "outputId": "b50bc9dd-63e5-4484-9755-decaee53fffe"
   },
   "outputs": [
    {
     "name": "stdout",
     "output_type": "stream",
     "text": [
      "[35, 0, 12, 24, 18, 28, 15, 19, 36, 26, 30, 34, 13, 16, 37, 4, 5, 33, 39, 31, 10, 6, 20, 21, 1, 8, 14, 23, 2, 3, 17, 7, 32, 27, 22, 25, 11, 38, 29, 9]\n"
     ]
    }
   ],
   "source": [
    "subjects = list(range(40))\n",
    "random.Random(SEED).shuffle(subjects)\n",
    "print(subjects)\n",
    "# data points > # clients\n",
    "# Using client size = 6, # clients = 3"
   ]
  },
  {
   "cell_type": "code",
   "execution_count": null,
   "metadata": {
    "colab": {
     "base_uri": "https://localhost:8080/"
    },
    "id": "V3gc2mnVx9oe",
    "outputId": "151d21a2-6de7-4bbe-9e53-66a0f178cc27"
   },
   "outputs": [
    {
     "data": {
      "text/plain": [
       "([35,\n",
       "  0,\n",
       "  12,\n",
       "  24,\n",
       "  18,\n",
       "  28,\n",
       "  15,\n",
       "  19,\n",
       "  36,\n",
       "  26,\n",
       "  30,\n",
       "  34,\n",
       "  13,\n",
       "  16,\n",
       "  37,\n",
       "  4,\n",
       "  5,\n",
       "  33,\n",
       "  39,\n",
       "  31,\n",
       "  10,\n",
       "  6,\n",
       "  20,\n",
       "  21,\n",
       "  1,\n",
       "  8,\n",
       "  14,\n",
       "  23,\n",
       "  2,\n",
       "  3,\n",
       "  17,\n",
       "  7,\n",
       "  32],\n",
       " [27, 22, 25, 11, 38, 29, 9])"
      ]
     },
     "execution_count": 43,
     "metadata": {},
     "output_type": "execute_result"
    }
   ],
   "source": [
    "train_clients = subjects[:33]\n",
    "test_clients = subjects[33:]\n",
    "train_clients, test_clients"
   ]
  },
  {
   "cell_type": "code",
   "execution_count": null,
   "metadata": {
    "id": "fFTOvtPGiUzQ"
   },
   "outputs": [],
   "source": [
    "def create_clientwise_data(client_ids):\n",
    "    x = tf.concat([data_dict[id] for id in client_ids], 0)\n",
    "    y = tf.concat([target_dict[id] for id in client_ids], 0)\n",
    "    return x, y"
   ]
  },
  {
   "cell_type": "code",
   "execution_count": null,
   "metadata": {
    "colab": {
     "base_uri": "https://localhost:8080/"
    },
    "id": "93pfy2jwjpf_",
    "outputId": "8effe383-818b-409a-acb2-aaad07728cad"
   },
   "outputs": [
    {
     "data": {
      "text/plain": [
       "(TensorShape([660, 85]),\n",
       " TensorShape([660, 1]),\n",
       " TensorShape([140, 85]),\n",
       " TensorShape([140, 1]))"
      ]
     },
     "execution_count": 45,
     "metadata": {},
     "output_type": "execute_result"
    }
   ],
   "source": [
    "X_train, Y_train = create_clientwise_data(train_clients)\n",
    "X_test, Y_test = create_clientwise_data(test_clients)\n",
    "\n",
    "X_train.shape, Y_train.shape, X_test.shape, Y_test.shape"
   ]
  },
  {
   "cell_type": "code",
   "execution_count": null,
   "metadata": {
    "id": "nc9E1tCo15oh"
   },
   "outputs": [],
   "source": [
    "input_shape = 85\n",
    "ann = tf.keras.models.Sequential()\n",
    "\n",
    "#Adding First Hidden Layer\n",
    "ann.add(tf.keras.layers.Dense(32, input_dim=85, activation=\"relu\"))\n",
    "#Adding Second Hidden Layer\n",
    "ann.add(tf.keras.layers.Dense(units=16, activation=\"relu\"))\n",
    "#Adding Output Layer\n",
    "ann.add(tf.keras.layers.Dense(1, activation=\"sigmoid\"))\n",
    "\n",
    "#Compiling ANN\n",
    "ann.compile(optimizer=\"adam\",loss=\"binary_crossentropy\",metrics=['binary_accuracy'])"
   ]
  },
  {
   "cell_type": "code",
   "execution_count": null,
   "metadata": {
    "colab": {
     "base_uri": "https://localhost:8080/"
    },
    "id": "Zm47YHLZkbMA",
    "outputId": "4b671f36-b0f2-4a9d-9439-2451566b9d0b"
   },
   "outputs": [
    {
     "name": "stdout",
     "output_type": "stream",
     "text": [
      "Model: \"sequential_2\"\n",
      "_________________________________________________________________\n",
      " Layer (type)                Output Shape              Param #   \n",
      "=================================================================\n",
      " dense_6 (Dense)             (None, 32)                2752      \n",
      "                                                                 \n",
      " dense_7 (Dense)             (None, 16)                528       \n",
      "                                                                 \n",
      " dense_8 (Dense)             (None, 1)                 17        \n",
      "                                                                 \n",
      "=================================================================\n",
      "Total params: 3,297\n",
      "Trainable params: 3,297\n",
      "Non-trainable params: 0\n",
      "_________________________________________________________________\n"
     ]
    }
   ],
   "source": [
    "ann.summary()"
   ]
  },
  {
   "cell_type": "code",
   "execution_count": null,
   "metadata": {
    "colab": {
     "base_uri": "https://localhost:8080/"
    },
    "id": "FcfnAWW-kcdY",
    "outputId": "c2cd9abb-7323-49b9-d956-ec4047ada181"
   },
   "outputs": [
    {
     "name": "stdout",
     "output_type": "stream",
     "text": [
      "Epoch 1/200\n",
      "21/21 [==============================] - 1s 2ms/step - loss: 0.8909 - binary_accuracy: 0.5561\n",
      "Epoch 2/200\n",
      "21/21 [==============================] - 0s 2ms/step - loss: 0.8157 - binary_accuracy: 0.5697\n",
      "Epoch 3/200\n",
      "21/21 [==============================] - 0s 2ms/step - loss: 0.7901 - binary_accuracy: 0.5439\n",
      "Epoch 4/200\n",
      "21/21 [==============================] - 0s 2ms/step - loss: 0.7766 - binary_accuracy: 0.5455\n",
      "Epoch 5/200\n",
      "21/21 [==============================] - 0s 2ms/step - loss: 0.7427 - binary_accuracy: 0.5621\n",
      "Epoch 6/200\n",
      "21/21 [==============================] - 0s 2ms/step - loss: 0.7014 - binary_accuracy: 0.5939\n",
      "Epoch 7/200\n",
      "21/21 [==============================] - 0s 2ms/step - loss: 0.6878 - binary_accuracy: 0.5924\n",
      "Epoch 8/200\n",
      "21/21 [==============================] - 0s 2ms/step - loss: 0.7079 - binary_accuracy: 0.5591\n",
      "Epoch 9/200\n",
      "21/21 [==============================] - 0s 2ms/step - loss: 0.6761 - binary_accuracy: 0.6030\n",
      "Epoch 10/200\n",
      "21/21 [==============================] - 0s 2ms/step - loss: 0.6783 - binary_accuracy: 0.5985\n",
      "Epoch 11/200\n",
      "21/21 [==============================] - 0s 2ms/step - loss: 0.6767 - binary_accuracy: 0.6106\n",
      "Epoch 12/200\n",
      "21/21 [==============================] - 0s 2ms/step - loss: 0.6774 - binary_accuracy: 0.6121\n",
      "Epoch 13/200\n",
      "21/21 [==============================] - 0s 2ms/step - loss: 0.6664 - binary_accuracy: 0.5970\n",
      "Epoch 14/200\n",
      "21/21 [==============================] - 0s 2ms/step - loss: 0.6839 - binary_accuracy: 0.6061\n",
      "Epoch 15/200\n",
      "21/21 [==============================] - 0s 2ms/step - loss: 0.6533 - binary_accuracy: 0.6348\n",
      "Epoch 16/200\n",
      "21/21 [==============================] - 0s 2ms/step - loss: 0.6538 - binary_accuracy: 0.6273\n",
      "Epoch 17/200\n",
      "21/21 [==============================] - 0s 2ms/step - loss: 0.6634 - binary_accuracy: 0.6364\n",
      "Epoch 18/200\n",
      "21/21 [==============================] - 0s 2ms/step - loss: 0.6554 - binary_accuracy: 0.6152\n",
      "Epoch 19/200\n",
      "21/21 [==============================] - 0s 2ms/step - loss: 0.6483 - binary_accuracy: 0.6364\n",
      "Epoch 20/200\n",
      "21/21 [==============================] - 0s 2ms/step - loss: 0.7036 - binary_accuracy: 0.6136\n",
      "Epoch 21/200\n",
      "21/21 [==============================] - 0s 2ms/step - loss: 0.6773 - binary_accuracy: 0.6212\n",
      "Epoch 22/200\n",
      "21/21 [==============================] - 0s 2ms/step - loss: 0.6509 - binary_accuracy: 0.6348\n",
      "Epoch 23/200\n",
      "21/21 [==============================] - 0s 2ms/step - loss: 0.6510 - binary_accuracy: 0.5955\n",
      "Epoch 24/200\n",
      "21/21 [==============================] - 0s 2ms/step - loss: 0.6573 - binary_accuracy: 0.6318\n",
      "Epoch 25/200\n",
      "21/21 [==============================] - 0s 2ms/step - loss: 0.6390 - binary_accuracy: 0.6318\n",
      "Epoch 26/200\n",
      "21/21 [==============================] - 0s 2ms/step - loss: 0.6371 - binary_accuracy: 0.6545\n",
      "Epoch 27/200\n",
      "21/21 [==============================] - 0s 2ms/step - loss: 0.6485 - binary_accuracy: 0.6061\n",
      "Epoch 28/200\n",
      "21/21 [==============================] - 0s 2ms/step - loss: 0.6537 - binary_accuracy: 0.6091\n",
      "Epoch 29/200\n",
      "21/21 [==============================] - 0s 2ms/step - loss: 0.6255 - binary_accuracy: 0.6439\n",
      "Epoch 30/200\n",
      "21/21 [==============================] - 0s 2ms/step - loss: 0.6226 - binary_accuracy: 0.6621\n",
      "Epoch 31/200\n",
      "21/21 [==============================] - 0s 2ms/step - loss: 0.6493 - binary_accuracy: 0.6212\n",
      "Epoch 32/200\n",
      "21/21 [==============================] - 0s 2ms/step - loss: 0.6543 - binary_accuracy: 0.6197\n",
      "Epoch 33/200\n",
      "21/21 [==============================] - 0s 2ms/step - loss: 0.6223 - binary_accuracy: 0.6545\n",
      "Epoch 34/200\n",
      "21/21 [==============================] - 0s 2ms/step - loss: 0.6443 - binary_accuracy: 0.6379\n",
      "Epoch 35/200\n",
      "21/21 [==============================] - 0s 2ms/step - loss: 0.6323 - binary_accuracy: 0.6348\n",
      "Epoch 36/200\n",
      "21/21 [==============================] - 0s 2ms/step - loss: 0.6252 - binary_accuracy: 0.6561\n",
      "Epoch 37/200\n",
      "21/21 [==============================] - 0s 2ms/step - loss: 0.6196 - binary_accuracy: 0.6485\n",
      "Epoch 38/200\n",
      "21/21 [==============================] - 0s 2ms/step - loss: 0.6028 - binary_accuracy: 0.6758\n",
      "Epoch 39/200\n",
      "21/21 [==============================] - 0s 2ms/step - loss: 0.6185 - binary_accuracy: 0.6652\n",
      "Epoch 40/200\n",
      "21/21 [==============================] - 0s 2ms/step - loss: 0.5975 - binary_accuracy: 0.6712\n",
      "Epoch 41/200\n",
      "21/21 [==============================] - 0s 2ms/step - loss: 0.6308 - binary_accuracy: 0.6439\n",
      "Epoch 42/200\n",
      "21/21 [==============================] - 0s 2ms/step - loss: 0.6140 - binary_accuracy: 0.6576\n",
      "Epoch 43/200\n",
      "21/21 [==============================] - 0s 2ms/step - loss: 0.6122 - binary_accuracy: 0.6712\n",
      "Epoch 44/200\n",
      "21/21 [==============================] - 0s 2ms/step - loss: 0.6753 - binary_accuracy: 0.6621\n",
      "Epoch 45/200\n",
      "21/21 [==============================] - 0s 2ms/step - loss: 0.6219 - binary_accuracy: 0.6515\n",
      "Epoch 46/200\n",
      "21/21 [==============================] - 0s 2ms/step - loss: 0.6285 - binary_accuracy: 0.6682\n",
      "Epoch 47/200\n",
      "21/21 [==============================] - 0s 2ms/step - loss: 0.6166 - binary_accuracy: 0.6485\n",
      "Epoch 48/200\n",
      "21/21 [==============================] - 0s 2ms/step - loss: 0.6218 - binary_accuracy: 0.6515\n",
      "Epoch 49/200\n",
      "21/21 [==============================] - 0s 3ms/step - loss: 0.6137 - binary_accuracy: 0.6500\n",
      "Epoch 50/200\n",
      "21/21 [==============================] - 0s 2ms/step - loss: 0.5965 - binary_accuracy: 0.6833\n",
      "Epoch 51/200\n",
      "21/21 [==============================] - 0s 2ms/step - loss: 0.5932 - binary_accuracy: 0.6864\n",
      "Epoch 52/200\n",
      "21/21 [==============================] - 0s 3ms/step - loss: 0.5764 - binary_accuracy: 0.7030\n",
      "Epoch 53/200\n",
      "21/21 [==============================] - 0s 2ms/step - loss: 0.5762 - binary_accuracy: 0.7045\n",
      "Epoch 54/200\n",
      "21/21 [==============================] - 0s 2ms/step - loss: 0.6169 - binary_accuracy: 0.6712\n",
      "Epoch 55/200\n",
      "21/21 [==============================] - 0s 2ms/step - loss: 0.6340 - binary_accuracy: 0.6515\n",
      "Epoch 56/200\n",
      "21/21 [==============================] - 0s 2ms/step - loss: 0.5855 - binary_accuracy: 0.6924\n",
      "Epoch 57/200\n",
      "21/21 [==============================] - 0s 2ms/step - loss: 0.5900 - binary_accuracy: 0.6788\n",
      "Epoch 58/200\n",
      "21/21 [==============================] - 0s 2ms/step - loss: 0.5711 - binary_accuracy: 0.7030\n",
      "Epoch 59/200\n",
      "21/21 [==============================] - 0s 2ms/step - loss: 0.5906 - binary_accuracy: 0.6955\n",
      "Epoch 60/200\n",
      "21/21 [==============================] - 0s 2ms/step - loss: 0.5779 - binary_accuracy: 0.6803\n",
      "Epoch 61/200\n",
      "21/21 [==============================] - 0s 2ms/step - loss: 0.5675 - binary_accuracy: 0.6864\n",
      "Epoch 62/200\n",
      "21/21 [==============================] - 0s 2ms/step - loss: 0.6005 - binary_accuracy: 0.6803\n",
      "Epoch 63/200\n",
      "21/21 [==============================] - 0s 2ms/step - loss: 0.5802 - binary_accuracy: 0.6955\n",
      "Epoch 64/200\n",
      "21/21 [==============================] - 0s 2ms/step - loss: 0.5524 - binary_accuracy: 0.7076\n",
      "Epoch 65/200\n",
      "21/21 [==============================] - 0s 2ms/step - loss: 0.5531 - binary_accuracy: 0.7045\n",
      "Epoch 66/200\n",
      "21/21 [==============================] - 0s 2ms/step - loss: 0.5602 - binary_accuracy: 0.7152\n",
      "Epoch 67/200\n",
      "21/21 [==============================] - 0s 2ms/step - loss: 0.5657 - binary_accuracy: 0.6879\n",
      "Epoch 68/200\n",
      "21/21 [==============================] - 0s 2ms/step - loss: 0.6104 - binary_accuracy: 0.6621\n",
      "Epoch 69/200\n",
      "21/21 [==============================] - 0s 2ms/step - loss: 0.5783 - binary_accuracy: 0.6909\n",
      "Epoch 70/200\n",
      "21/21 [==============================] - 0s 2ms/step - loss: 0.5518 - binary_accuracy: 0.7182\n",
      "Epoch 71/200\n",
      "21/21 [==============================] - 0s 2ms/step - loss: 0.5504 - binary_accuracy: 0.7227\n",
      "Epoch 72/200\n",
      "21/21 [==============================] - 0s 2ms/step - loss: 0.5579 - binary_accuracy: 0.7030\n",
      "Epoch 73/200\n",
      "21/21 [==============================] - 0s 2ms/step - loss: 0.5390 - binary_accuracy: 0.7258\n",
      "Epoch 74/200\n",
      "21/21 [==============================] - 0s 2ms/step - loss: 0.5442 - binary_accuracy: 0.7121\n",
      "Epoch 75/200\n",
      "21/21 [==============================] - 0s 2ms/step - loss: 0.5362 - binary_accuracy: 0.7197\n",
      "Epoch 76/200\n",
      "21/21 [==============================] - 0s 2ms/step - loss: 0.5738 - binary_accuracy: 0.7273\n",
      "Epoch 77/200\n",
      "21/21 [==============================] - 0s 2ms/step - loss: 0.5494 - binary_accuracy: 0.7242\n",
      "Epoch 78/200\n",
      "21/21 [==============================] - 0s 2ms/step - loss: 0.5566 - binary_accuracy: 0.7076\n",
      "Epoch 79/200\n",
      "21/21 [==============================] - 0s 2ms/step - loss: 0.5438 - binary_accuracy: 0.7167\n",
      "Epoch 80/200\n",
      "21/21 [==============================] - 0s 2ms/step - loss: 0.5392 - binary_accuracy: 0.7106\n",
      "Epoch 81/200\n",
      "21/21 [==============================] - 0s 2ms/step - loss: 0.5525 - binary_accuracy: 0.7061\n",
      "Epoch 82/200\n",
      "21/21 [==============================] - 0s 2ms/step - loss: 0.5735 - binary_accuracy: 0.6864\n",
      "Epoch 83/200\n",
      "21/21 [==============================] - 0s 2ms/step - loss: 0.5684 - binary_accuracy: 0.6924\n",
      "Epoch 84/200\n",
      "21/21 [==============================] - 0s 2ms/step - loss: 0.6029 - binary_accuracy: 0.6924\n",
      "Epoch 85/200\n",
      "21/21 [==============================] - 0s 2ms/step - loss: 0.5896 - binary_accuracy: 0.6848\n",
      "Epoch 86/200\n",
      "21/21 [==============================] - 0s 2ms/step - loss: 0.5397 - binary_accuracy: 0.7000\n",
      "Epoch 87/200\n",
      "21/21 [==============================] - 0s 2ms/step - loss: 0.5198 - binary_accuracy: 0.7318\n",
      "Epoch 88/200\n",
      "21/21 [==============================] - 0s 2ms/step - loss: 0.5177 - binary_accuracy: 0.7273\n",
      "Epoch 89/200\n",
      "21/21 [==============================] - 0s 2ms/step - loss: 0.5370 - binary_accuracy: 0.7333\n",
      "Epoch 90/200\n",
      "21/21 [==============================] - 0s 2ms/step - loss: 0.5152 - binary_accuracy: 0.7530\n",
      "Epoch 91/200\n",
      "21/21 [==============================] - 0s 4ms/step - loss: 0.5099 - binary_accuracy: 0.7303\n",
      "Epoch 92/200\n",
      "21/21 [==============================] - 0s 2ms/step - loss: 0.5196 - binary_accuracy: 0.7121\n",
      "Epoch 93/200\n",
      "21/21 [==============================] - 0s 2ms/step - loss: 0.5143 - binary_accuracy: 0.7333\n",
      "Epoch 94/200\n",
      "21/21 [==============================] - 0s 2ms/step - loss: 0.5212 - binary_accuracy: 0.7348\n",
      "Epoch 95/200\n",
      "21/21 [==============================] - 0s 2ms/step - loss: 0.5252 - binary_accuracy: 0.7197\n",
      "Epoch 96/200\n",
      "21/21 [==============================] - 0s 2ms/step - loss: 0.5179 - binary_accuracy: 0.7318\n",
      "Epoch 97/200\n",
      "21/21 [==============================] - 0s 2ms/step - loss: 0.5028 - binary_accuracy: 0.7455\n",
      "Epoch 98/200\n",
      "21/21 [==============================] - 0s 2ms/step - loss: 0.5249 - binary_accuracy: 0.7258\n",
      "Epoch 99/200\n",
      "21/21 [==============================] - 0s 2ms/step - loss: 0.5355 - binary_accuracy: 0.7258\n",
      "Epoch 100/200\n",
      "21/21 [==============================] - 0s 2ms/step - loss: 0.5002 - binary_accuracy: 0.7439\n",
      "Epoch 101/200\n",
      "21/21 [==============================] - 0s 2ms/step - loss: 0.5157 - binary_accuracy: 0.7303\n",
      "Epoch 102/200\n",
      "21/21 [==============================] - 0s 2ms/step - loss: 0.5140 - binary_accuracy: 0.7303\n",
      "Epoch 103/200\n",
      "21/21 [==============================] - 0s 2ms/step - loss: 0.5737 - binary_accuracy: 0.6985\n",
      "Epoch 104/200\n",
      "21/21 [==============================] - 0s 2ms/step - loss: 0.5930 - binary_accuracy: 0.6803\n",
      "Epoch 105/200\n",
      "21/21 [==============================] - 0s 2ms/step - loss: 0.5310 - binary_accuracy: 0.7076\n",
      "Epoch 106/200\n",
      "21/21 [==============================] - 0s 2ms/step - loss: 0.4991 - binary_accuracy: 0.7318\n",
      "Epoch 107/200\n",
      "21/21 [==============================] - 0s 2ms/step - loss: 0.4973 - binary_accuracy: 0.7348\n",
      "Epoch 108/200\n",
      "21/21 [==============================] - 0s 2ms/step - loss: 0.4969 - binary_accuracy: 0.7455\n",
      "Epoch 109/200\n",
      "21/21 [==============================] - 0s 2ms/step - loss: 0.5055 - binary_accuracy: 0.7379\n",
      "Epoch 110/200\n",
      "21/21 [==============================] - 0s 2ms/step - loss: 0.5590 - binary_accuracy: 0.7182\n",
      "Epoch 111/200\n",
      "21/21 [==============================] - 0s 2ms/step - loss: 0.5443 - binary_accuracy: 0.7000\n",
      "Epoch 112/200\n",
      "21/21 [==============================] - 0s 2ms/step - loss: 0.5699 - binary_accuracy: 0.7303\n",
      "Epoch 113/200\n",
      "21/21 [==============================] - 0s 2ms/step - loss: 0.5140 - binary_accuracy: 0.7379\n",
      "Epoch 114/200\n",
      "21/21 [==============================] - 0s 2ms/step - loss: 0.4944 - binary_accuracy: 0.7576\n",
      "Epoch 115/200\n",
      "21/21 [==============================] - 0s 2ms/step - loss: 0.4889 - binary_accuracy: 0.7576\n",
      "Epoch 116/200\n",
      "21/21 [==============================] - 0s 2ms/step - loss: 0.4843 - binary_accuracy: 0.7424\n",
      "Epoch 117/200\n",
      "21/21 [==============================] - 0s 2ms/step - loss: 0.4861 - binary_accuracy: 0.7545\n",
      "Epoch 118/200\n",
      "21/21 [==============================] - 0s 2ms/step - loss: 0.4900 - binary_accuracy: 0.7515\n",
      "Epoch 119/200\n",
      "21/21 [==============================] - 0s 2ms/step - loss: 0.4810 - binary_accuracy: 0.7652\n",
      "Epoch 120/200\n",
      "21/21 [==============================] - 0s 2ms/step - loss: 0.4882 - binary_accuracy: 0.7621\n",
      "Epoch 121/200\n",
      "21/21 [==============================] - 0s 2ms/step - loss: 0.4883 - binary_accuracy: 0.7621\n",
      "Epoch 122/200\n",
      "21/21 [==============================] - 0s 2ms/step - loss: 0.4827 - binary_accuracy: 0.7576\n",
      "Epoch 123/200\n",
      "21/21 [==============================] - 0s 2ms/step - loss: 0.5017 - binary_accuracy: 0.7485\n",
      "Epoch 124/200\n",
      "21/21 [==============================] - 0s 2ms/step - loss: 0.5523 - binary_accuracy: 0.7076\n",
      "Epoch 125/200\n",
      "21/21 [==============================] - 0s 2ms/step - loss: 0.5044 - binary_accuracy: 0.7348\n",
      "Epoch 126/200\n",
      "21/21 [==============================] - 0s 2ms/step - loss: 0.4759 - binary_accuracy: 0.7712\n",
      "Epoch 127/200\n",
      "21/21 [==============================] - 0s 2ms/step - loss: 0.4786 - binary_accuracy: 0.7652\n",
      "Epoch 128/200\n",
      "21/21 [==============================] - 0s 2ms/step - loss: 0.4734 - binary_accuracy: 0.7561\n",
      "Epoch 129/200\n",
      "21/21 [==============================] - 0s 2ms/step - loss: 0.4794 - binary_accuracy: 0.7545\n",
      "Epoch 130/200\n",
      "21/21 [==============================] - 0s 2ms/step - loss: 0.4847 - binary_accuracy: 0.7333\n",
      "Epoch 131/200\n",
      "21/21 [==============================] - 0s 2ms/step - loss: 0.4802 - binary_accuracy: 0.7621\n",
      "Epoch 132/200\n",
      "21/21 [==============================] - 0s 2ms/step - loss: 0.4671 - binary_accuracy: 0.7545\n",
      "Epoch 133/200\n",
      "21/21 [==============================] - 0s 2ms/step - loss: 0.4675 - binary_accuracy: 0.7682\n",
      "Epoch 134/200\n",
      "21/21 [==============================] - 0s 2ms/step - loss: 0.4860 - binary_accuracy: 0.7545\n",
      "Epoch 135/200\n",
      "21/21 [==============================] - 0s 2ms/step - loss: 0.4874 - binary_accuracy: 0.7636\n",
      "Epoch 136/200\n",
      "21/21 [==============================] - 0s 2ms/step - loss: 0.4685 - binary_accuracy: 0.7606\n",
      "Epoch 137/200\n",
      "21/21 [==============================] - 0s 2ms/step - loss: 0.4769 - binary_accuracy: 0.7455\n",
      "Epoch 138/200\n",
      "21/21 [==============================] - 0s 2ms/step - loss: 0.4688 - binary_accuracy: 0.7682\n",
      "Epoch 139/200\n",
      "21/21 [==============================] - 0s 2ms/step - loss: 0.4756 - binary_accuracy: 0.7682\n",
      "Epoch 140/200\n",
      "21/21 [==============================] - 0s 2ms/step - loss: 0.4609 - binary_accuracy: 0.7712\n",
      "Epoch 141/200\n",
      "21/21 [==============================] - 0s 2ms/step - loss: 0.4639 - binary_accuracy: 0.7530\n",
      "Epoch 142/200\n",
      "21/21 [==============================] - 0s 2ms/step - loss: 0.4719 - binary_accuracy: 0.7500\n",
      "Epoch 143/200\n",
      "21/21 [==============================] - 0s 2ms/step - loss: 0.4676 - binary_accuracy: 0.7636\n",
      "Epoch 144/200\n",
      "21/21 [==============================] - 0s 2ms/step - loss: 0.4745 - binary_accuracy: 0.7545\n",
      "Epoch 145/200\n",
      "21/21 [==============================] - 0s 2ms/step - loss: 0.4727 - binary_accuracy: 0.7545\n",
      "Epoch 146/200\n",
      "21/21 [==============================] - 0s 2ms/step - loss: 0.4867 - binary_accuracy: 0.7545\n",
      "Epoch 147/200\n",
      "21/21 [==============================] - 0s 2ms/step - loss: 0.4929 - binary_accuracy: 0.7667\n",
      "Epoch 148/200\n",
      "21/21 [==============================] - 0s 2ms/step - loss: 0.4681 - binary_accuracy: 0.7697\n",
      "Epoch 149/200\n",
      "21/21 [==============================] - 0s 2ms/step - loss: 0.4724 - binary_accuracy: 0.7636\n",
      "Epoch 150/200\n",
      "21/21 [==============================] - 0s 2ms/step - loss: 0.4598 - binary_accuracy: 0.7636\n",
      "Epoch 151/200\n",
      "21/21 [==============================] - 0s 3ms/step - loss: 0.4659 - binary_accuracy: 0.7515\n",
      "Epoch 152/200\n",
      "21/21 [==============================] - 0s 2ms/step - loss: 0.4593 - binary_accuracy: 0.7712\n",
      "Epoch 153/200\n",
      "21/21 [==============================] - 0s 2ms/step - loss: 0.4517 - binary_accuracy: 0.7758\n",
      "Epoch 154/200\n",
      "21/21 [==============================] - 0s 2ms/step - loss: 0.4502 - binary_accuracy: 0.7697\n",
      "Epoch 155/200\n",
      "21/21 [==============================] - 0s 2ms/step - loss: 0.4470 - binary_accuracy: 0.7727\n",
      "Epoch 156/200\n",
      "21/21 [==============================] - 0s 2ms/step - loss: 0.4675 - binary_accuracy: 0.7576\n",
      "Epoch 157/200\n",
      "21/21 [==============================] - 0s 2ms/step - loss: 0.4495 - binary_accuracy: 0.7652\n",
      "Epoch 158/200\n",
      "21/21 [==============================] - 0s 2ms/step - loss: 0.4489 - binary_accuracy: 0.7727\n",
      "Epoch 159/200\n",
      "21/21 [==============================] - 0s 2ms/step - loss: 0.4666 - binary_accuracy: 0.7652\n",
      "Epoch 160/200\n",
      "21/21 [==============================] - 0s 2ms/step - loss: 0.4603 - binary_accuracy: 0.7561\n",
      "Epoch 161/200\n",
      "21/21 [==============================] - 0s 2ms/step - loss: 0.4517 - binary_accuracy: 0.7606\n",
      "Epoch 162/200\n",
      "21/21 [==============================] - 0s 2ms/step - loss: 0.4465 - binary_accuracy: 0.7697\n",
      "Epoch 163/200\n",
      "21/21 [==============================] - 0s 2ms/step - loss: 0.4447 - binary_accuracy: 0.7833\n",
      "Epoch 164/200\n",
      "21/21 [==============================] - 0s 2ms/step - loss: 0.4490 - binary_accuracy: 0.7697\n",
      "Epoch 165/200\n",
      "21/21 [==============================] - 0s 2ms/step - loss: 0.4397 - binary_accuracy: 0.7773\n",
      "Epoch 166/200\n",
      "21/21 [==============================] - 0s 2ms/step - loss: 0.4373 - binary_accuracy: 0.7727\n",
      "Epoch 167/200\n",
      "21/21 [==============================] - 0s 2ms/step - loss: 0.4406 - binary_accuracy: 0.7818\n",
      "Epoch 168/200\n",
      "21/21 [==============================] - 0s 2ms/step - loss: 0.4469 - binary_accuracy: 0.7667\n",
      "Epoch 169/200\n",
      "21/21 [==============================] - 0s 2ms/step - loss: 0.4576 - binary_accuracy: 0.7576\n",
      "Epoch 170/200\n",
      "21/21 [==============================] - 0s 2ms/step - loss: 0.4608 - binary_accuracy: 0.7591\n",
      "Epoch 171/200\n",
      "21/21 [==============================] - 0s 2ms/step - loss: 0.4663 - binary_accuracy: 0.7742\n",
      "Epoch 172/200\n",
      "21/21 [==============================] - 0s 2ms/step - loss: 0.4495 - binary_accuracy: 0.7712\n",
      "Epoch 173/200\n",
      "21/21 [==============================] - 0s 2ms/step - loss: 0.4499 - binary_accuracy: 0.7591\n",
      "Epoch 174/200\n",
      "21/21 [==============================] - 0s 2ms/step - loss: 0.4723 - binary_accuracy: 0.7606\n",
      "Epoch 175/200\n",
      "21/21 [==============================] - 0s 2ms/step - loss: 0.4525 - binary_accuracy: 0.7667\n",
      "Epoch 176/200\n",
      "21/21 [==============================] - 0s 2ms/step - loss: 0.4251 - binary_accuracy: 0.7803\n",
      "Epoch 177/200\n",
      "21/21 [==============================] - 0s 2ms/step - loss: 0.4491 - binary_accuracy: 0.7803\n",
      "Epoch 178/200\n",
      "21/21 [==============================] - 0s 2ms/step - loss: 0.4290 - binary_accuracy: 0.7894\n",
      "Epoch 179/200\n",
      "21/21 [==============================] - 0s 2ms/step - loss: 0.4373 - binary_accuracy: 0.7833\n",
      "Epoch 180/200\n",
      "21/21 [==============================] - 0s 2ms/step - loss: 0.4560 - binary_accuracy: 0.7727\n",
      "Epoch 181/200\n",
      "21/21 [==============================] - 0s 2ms/step - loss: 0.4744 - binary_accuracy: 0.7606\n",
      "Epoch 182/200\n",
      "21/21 [==============================] - 0s 2ms/step - loss: 0.4479 - binary_accuracy: 0.7894\n",
      "Epoch 183/200\n",
      "21/21 [==============================] - 0s 2ms/step - loss: 0.4463 - binary_accuracy: 0.7879\n",
      "Epoch 184/200\n",
      "21/21 [==============================] - 0s 2ms/step - loss: 0.4297 - binary_accuracy: 0.7803\n",
      "Epoch 185/200\n",
      "21/21 [==============================] - 0s 2ms/step - loss: 0.4301 - binary_accuracy: 0.7833\n",
      "Epoch 186/200\n",
      "21/21 [==============================] - 0s 2ms/step - loss: 0.4332 - binary_accuracy: 0.8015\n",
      "Epoch 187/200\n",
      "21/21 [==============================] - 0s 2ms/step - loss: 0.4692 - binary_accuracy: 0.7591\n",
      "Epoch 188/200\n",
      "21/21 [==============================] - 0s 2ms/step - loss: 0.4341 - binary_accuracy: 0.7758\n",
      "Epoch 189/200\n",
      "21/21 [==============================] - 0s 2ms/step - loss: 0.4262 - binary_accuracy: 0.7788\n",
      "Epoch 190/200\n",
      "21/21 [==============================] - 0s 2ms/step - loss: 0.4247 - binary_accuracy: 0.8000\n",
      "Epoch 191/200\n",
      "21/21 [==============================] - 0s 2ms/step - loss: 0.4482 - binary_accuracy: 0.7788\n",
      "Epoch 192/200\n",
      "21/21 [==============================] - 0s 2ms/step - loss: 0.4260 - binary_accuracy: 0.7879\n",
      "Epoch 193/200\n",
      "21/21 [==============================] - 0s 2ms/step - loss: 0.4263 - binary_accuracy: 0.7924\n",
      "Epoch 194/200\n",
      "21/21 [==============================] - 0s 2ms/step - loss: 0.4091 - binary_accuracy: 0.8045\n",
      "Epoch 195/200\n",
      "21/21 [==============================] - 0s 2ms/step - loss: 0.4145 - binary_accuracy: 0.8061\n",
      "Epoch 196/200\n",
      "21/21 [==============================] - 0s 2ms/step - loss: 0.4142 - binary_accuracy: 0.7970\n",
      "Epoch 197/200\n",
      "21/21 [==============================] - 0s 2ms/step - loss: 0.4139 - binary_accuracy: 0.7864\n",
      "Epoch 198/200\n",
      "21/21 [==============================] - 0s 2ms/step - loss: 0.4124 - binary_accuracy: 0.8091\n",
      "Epoch 199/200\n",
      "21/21 [==============================] - 0s 2ms/step - loss: 0.4185 - binary_accuracy: 0.8015\n",
      "Epoch 200/200\n",
      "21/21 [==============================] - 0s 2ms/step - loss: 0.4177 - binary_accuracy: 0.7894\n"
     ]
    },
    {
     "data": {
      "text/plain": [
       "<keras.callbacks.History at 0x7f3c84931210>"
      ]
     },
     "execution_count": 48,
     "metadata": {},
     "output_type": "execute_result"
    }
   ],
   "source": [
    "ann.fit(X_train, Y_train,epochs = 200)"
   ]
  },
  {
   "cell_type": "markdown",
   "metadata": {
    "id": "x-_Gvaaojkdr"
   },
   "source": [
    "# Evaluation"
   ]
  },
  {
   "cell_type": "code",
   "execution_count": null,
   "metadata": {
    "colab": {
     "base_uri": "https://localhost:8080/"
    },
    "id": "jm79dddvkqXX",
    "outputId": "b242023b-cb75-4c4b-ee44-f1c528e0067b"
   },
   "outputs": [
    {
     "name": "stdout",
     "output_type": "stream",
     "text": [
      "5/5 [==============================] - 0s 3ms/step - loss: 3.6335 - binary_accuracy: 0.5500\n"
     ]
    },
    {
     "data": {
      "text/plain": [
       "[3.633511781692505, 0.550000011920929]"
      ]
     },
     "execution_count": 49,
     "metadata": {},
     "output_type": "execute_result"
    }
   ],
   "source": [
    "ann.evaluate(x=X_test, y=Y_test)"
   ]
  },
  {
   "cell_type": "code",
   "execution_count": null,
   "metadata": {
    "colab": {
     "base_uri": "https://localhost:8080/"
    },
    "id": "VlAUF6bm5dxm",
    "outputId": "472fee04-e4eb-4d53-d248-2d24f90c519c"
   },
   "outputs": [
    {
     "data": {
      "text/plain": [
       "0.7071428571428572"
      ]
     },
     "execution_count": 50,
     "metadata": {},
     "output_type": "execute_result"
    }
   ],
   "source": [
    "np.sum(Y_test) / len(Y_test)"
   ]
  }
 ],
 "metadata": {
  "colab": {
   "name": "Copy of AMIGOS_ANN_Dominance+Arousal+Valence_BaseModel.ipynb",
   "provenance": []
  },
  "kernelspec": {
   "display_name": "Python 3 (ipykernel)",
   "language": "python",
   "name": "python3"
  },
  "language_info": {
   "codemirror_mode": {
    "name": "ipython",
    "version": 3
   },
   "file_extension": ".py",
   "mimetype": "text/x-python",
   "name": "python",
   "nbconvert_exporter": "python",
   "pygments_lexer": "ipython3",
   "version": "3.10.4"
  }
 },
 "nbformat": 4,
 "nbformat_minor": 1
}
